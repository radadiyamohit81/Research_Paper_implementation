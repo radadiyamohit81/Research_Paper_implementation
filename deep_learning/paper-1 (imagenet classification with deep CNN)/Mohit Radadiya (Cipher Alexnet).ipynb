{
  "nbformat": 4,
  "nbformat_minor": 0,
  "metadata": {
    "kernelspec": {
      "display_name": "Python 3",
      "language": "python",
      "name": "python3"
    },
    "language_info": {
      "codemirror_mode": {
        "name": "ipython",
        "version": 3
      },
      "file_extension": ".py",
      "mimetype": "text/x-python",
      "name": "python",
      "nbconvert_exporter": "python",
      "pygments_lexer": "ipython3",
      "version": "3.6.9"
    },
    "colab": {
      "name": "cifar-Alexnet.ipynb",
      "provenance": []
    },
    "accelerator": "GPU"
  },
  "cells": [
    {
      "cell_type": "markdown",
      "metadata": {
        "id": "2uV6ps_H06uP",
        "colab_type": "text"
      },
      "source": [
        "## Imports"
      ]
    },
    {
      "cell_type": "code",
      "metadata": {
        "id": "RRHYx4_j06uR",
        "colab_type": "code",
        "colab": {}
      },
      "source": [
        "import keras\n",
        "import os\n",
        "import tensorflow as tf\n",
        "from keras.callbacks import CSVLogger, EarlyStopping\n",
        "from keras.datasets import cifar10\n",
        "from keras.models import Sequential\n",
        "from keras.layers import Dense, Activation, Dropout\n",
        "from keras.layers import  Conv2D, MaxPooling2D, Flatten\n",
        "from keras.layers.normalization import BatchNormalization\n",
        "from keras.optimizers import SGD"
      ],
      "execution_count": 1,
      "outputs": []
    },
    {
      "cell_type": "markdown",
      "metadata": {
        "id": "J76MkiM006uY",
        "colab_type": "text"
      },
      "source": [
        "## Dataset and preprocessing"
      ]
    },
    {
      "cell_type": "code",
      "metadata": {
        "id": "x4AO9yGd06uZ",
        "colab_type": "code",
        "colab": {}
      },
      "source": [
        "# Define the parameters for the training\n",
        "batch_size = 128\n",
        "num_classes = 10 \n",
        "epochs = 100 \n",
        "num_predictions = 20\n",
        "save_dir = os.path.join(os.getcwd(), 'saved_models') \n",
        "model_name = 'keras_cifar10_trained_model.h5' # Model name"
      ],
      "execution_count": 2,
      "outputs": []
    },
    {
      "cell_type": "code",
      "metadata": {
        "id": "O5UwGWQ-06ue",
        "colab_type": "code",
        "colab": {
          "base_uri": "https://localhost:8080/",
          "height": 102
        },
        "outputId": "ce4a9aac-f3ae-4cc0-d4f6-d45fd3c98d84"
      },
      "source": [
        "# Splits the data between train and test sets\n",
        "(x_train, y_train), (x_test, y_test) = cifar10.load_data()\n",
        "print('x_train shape:', x_train.shape)\n",
        "print(x_train.shape[0], 'train samples')\n",
        "print(x_test.shape[0], 'test samples')\n",
        "\n",
        "# Converts the vectors to one hot encoding\n",
        "y_train = keras.utils.to_categorical(y_train, num_classes)\n",
        "y_test = keras.utils.to_categorical(y_test, num_classes)"
      ],
      "execution_count": 3,
      "outputs": [
        {
          "output_type": "stream",
          "text": [
            "Downloading data from https://www.cs.toronto.edu/~kriz/cifar-10-python.tar.gz\n",
            "170500096/170498071 [==============================] - 11s 0us/step\n",
            "x_train shape: (50000, 32, 32, 3)\n",
            "50000 train samples\n",
            "10000 test samples\n"
          ],
          "name": "stdout"
        }
      ]
    },
    {
      "cell_type": "markdown",
      "metadata": {
        "id": "-sK_dzFw06uj",
        "colab_type": "text"
      },
      "source": [
        "## Model"
      ]
    },
    {
      "cell_type": "code",
      "metadata": {
        "id": "gcdKniBf06uk",
        "colab_type": "code",
        "colab": {}
      },
      "source": [
        "model = Sequential()\n",
        "\n",
        "#Layer 1 \n",
        "model.add(Conv2D(filters=48, kernel_size=(3,3), \n",
        "                 strides=(1,1), padding='same', \n",
        "                 input_shape=(32,32,3)))\n",
        "model.add(BatchNormalization())\n",
        "model.add(Activation('relu'))\n",
        "model.add(MaxPooling2D(pool_size=(2,2), strides=(2,2)) )\n",
        "\n",
        "#Layer 2\n",
        "model.add(Conv2D(filters=96, kernel_size=(3,3), padding='same') )\n",
        "model.add(BatchNormalization())\n",
        "model.add(Activation('relu'))\n",
        "model.add(MaxPooling2D(pool_size=(2,2),strides=(2,2)))\n",
        "\n",
        "#Layer 3\n",
        "model.add(Conv2D(filters=192, kernel_size=(3,3), \n",
        "                  activation='relu', padding='same') )\n",
        "\n",
        "#Layer 4\n",
        "model.add(Conv2D(filters=192, kernel_size=(3,3), \n",
        "                  activation='relu', padding='same') )\n",
        "\n",
        "#Layer 5\n",
        "model.add(Conv2D(filters=256, kernel_size=(3,3), \n",
        "                 activation='relu', padding='same') )\n",
        "model.add(MaxPooling2D(pool_size=(2,2),strides=(2,2)) )\n",
        "\n",
        "model.add(Flatten())\n",
        "\n",
        "#Layer 6\n",
        "model.add(Dense(512, activation='relu'))\n",
        "model.add(Dropout(0.5))\n",
        "\n",
        "#Layer 7 \n",
        "model.add(Dense(256, activation='relu'))\n",
        "model.add(Dropout(0.5))\n",
        "\n",
        "#Prediction\n",
        "model.add(Dense(10))\n",
        "model.add(BatchNormalization())\n",
        "model.add(Activation('softmax'))"
      ],
      "execution_count": 4,
      "outputs": []
    },
    {
      "cell_type": "code",
      "metadata": {
        "id": "edxgCfaC06up",
        "colab_type": "code",
        "colab": {}
      },
      "source": [
        "model.compile(loss=\"categorical_crossentropy\",\n",
        "              optimizer=SGD(lr=0.01, momentum=0.9, decay=0.0005),\n",
        "              metrics=['accuracy'])"
      ],
      "execution_count": 5,
      "outputs": []
    },
    {
      "cell_type": "code",
      "metadata": {
        "id": "vzv6aEZB06uu",
        "colab_type": "code",
        "colab": {
          "base_uri": "https://localhost:8080/",
          "height": 564
        },
        "outputId": "a2779e48-964b-4cc4-9e75-656f298ebd6f"
      },
      "source": [
        "model.fit(x_train, y_train,\n",
        "          batch_size=batch_size,\n",
        "          shuffle=True,\n",
        "          epochs=100,\n",
        "          validation_data=(x_test, y_test),\n",
        "          callbacks=[EarlyStopping(min_delta=0.001, patience=3)])\n",
        "\n",
        "# Evaluate the model\n",
        "scores = model.evaluate(x_test, y_test)\n",
        "\n",
        "print('Loss: %.3f' % scores[0])\n",
        "print('Accuracy: %.3f' % scores[1])"
      ],
      "execution_count": 6,
      "outputs": [
        {
          "output_type": "stream",
          "text": [
            "Epoch 1/100\n",
            "391/391 [==============================] - 15s 38ms/step - loss: 1.7188 - accuracy: 0.3676 - val_loss: 1.6817 - val_accuracy: 0.4053\n",
            "Epoch 2/100\n",
            "391/391 [==============================] - 14s 36ms/step - loss: 1.2935 - accuracy: 0.5439 - val_loss: 1.1602 - val_accuracy: 0.6000\n",
            "Epoch 3/100\n",
            "391/391 [==============================] - 14s 36ms/step - loss: 1.0594 - accuracy: 0.6355 - val_loss: 1.1970 - val_accuracy: 0.5996\n",
            "Epoch 4/100\n",
            "391/391 [==============================] - 14s 36ms/step - loss: 0.9186 - accuracy: 0.6869 - val_loss: 0.8504 - val_accuracy: 0.7050\n",
            "Epoch 5/100\n",
            "391/391 [==============================] - 14s 37ms/step - loss: 0.8070 - accuracy: 0.7286 - val_loss: 0.9030 - val_accuracy: 0.6922\n",
            "Epoch 6/100\n",
            "391/391 [==============================] - 14s 36ms/step - loss: 0.7230 - accuracy: 0.7579 - val_loss: 0.8182 - val_accuracy: 0.7252\n",
            "Epoch 7/100\n",
            "391/391 [==============================] - 14s 36ms/step - loss: 0.6391 - accuracy: 0.7876 - val_loss: 0.7931 - val_accuracy: 0.7291\n",
            "Epoch 8/100\n",
            "391/391 [==============================] - 14s 36ms/step - loss: 0.5803 - accuracy: 0.8089 - val_loss: 0.7592 - val_accuracy: 0.7444\n",
            "Epoch 9/100\n",
            "391/391 [==============================] - 14s 36ms/step - loss: 0.5130 - accuracy: 0.8321 - val_loss: 0.6620 - val_accuracy: 0.7780\n",
            "Epoch 10/100\n",
            "391/391 [==============================] - 14s 36ms/step - loss: 0.4546 - accuracy: 0.8531 - val_loss: 0.9499 - val_accuracy: 0.6988\n",
            "Epoch 11/100\n",
            "391/391 [==============================] - 14s 36ms/step - loss: 0.4049 - accuracy: 0.8698 - val_loss: 0.6307 - val_accuracy: 0.7949\n",
            "Epoch 12/100\n",
            "391/391 [==============================] - 14s 36ms/step - loss: 0.3520 - accuracy: 0.8877 - val_loss: 0.6605 - val_accuracy: 0.7895\n",
            "Epoch 13/100\n",
            "391/391 [==============================] - 14s 36ms/step - loss: 0.3042 - accuracy: 0.9055 - val_loss: 0.6802 - val_accuracy: 0.7816\n",
            "Epoch 14/100\n",
            "391/391 [==============================] - 14s 36ms/step - loss: 0.2529 - accuracy: 0.9231 - val_loss: 0.7131 - val_accuracy: 0.7785\n",
            "313/313 [==============================] - 2s 6ms/step - loss: 0.7131 - accuracy: 0.7785\n",
            "Loss: 0.713\n",
            "Accuracy: 0.779\n"
          ],
          "name": "stdout"
        }
      ]
    },
    {
      "cell_type": "code",
      "metadata": {
        "id": "bMtKN79R06uy",
        "colab_type": "code",
        "colab": {
          "base_uri": "https://localhost:8080/",
          "height": 793
        },
        "outputId": "bc0bef10-5df6-4c1a-a57d-1f8a1898f3f3"
      },
      "source": [
        "from sklearn.metrics import classification_report, confusion_matrix\n",
        "import numpy as np\n",
        "import matplotlib.pyplot as plt\n",
        "%matplotlib inline\n",
        "\n",
        "Y_pred = model.predict(x_test, verbose=2)\n",
        "y_pred = np.argmax(Y_pred, axis=1)\n",
        " \n",
        "for ix in range(10):\n",
        "    print(ix, confusion_matrix(np.argmax(y_test,axis=1),y_pred)[ix].sum())\n",
        "cm = confusion_matrix(np.argmax(y_test,axis=1),y_pred)\n",
        "print(cm)\n",
        " \n",
        "# Visualizing of confusion matrix\n",
        "import seaborn as sn\n",
        "import pandas  as pd\n",
        " \n",
        " \n",
        "df_cm = pd.DataFrame(cm, range(10),\n",
        "                  range(10))\n",
        "plt.figure(figsize = (10,7))\n",
        "sn.set(font_scale=1.4)#for label size\n",
        "sn.heatmap(df_cm, annot=True,annot_kws={\"size\": 12})# font size\n",
        "plt.show()"
      ],
      "execution_count": 11,
      "outputs": [
        {
          "output_type": "stream",
          "text": [
            "313/313 - 1s\n",
            "0 1000\n",
            "1 1000\n",
            "2 1000\n",
            "3 1000\n",
            "4 1000\n",
            "5 1000\n",
            "6 1000\n",
            "7 1000\n",
            "8 1000\n",
            "9 1000\n",
            "[[841   7  20   6   7   2   1  10  49  57]\n",
            " [ 19 835   3   5   1   7   2   1  18 109]\n",
            " [ 73   6 706  44  55  46  11  22  14  23]\n",
            " [ 28   1  46 585  51 171  14  39  20  45]\n",
            " [ 17   2  47  33 742  46   7  80  16  10]\n",
            " [ 15   2  23 113  20 745   2  48  14  18]\n",
            " [ 17   7  58 110  70  38 640  12  14  34]\n",
            " [ 14   3  14  20  29  34   0 859   5  22]\n",
            " [ 42   6   7   7   0   0   1   3 904  30]\n",
            " [ 11  28   3   2   2   1   0   5  20 928]]\n"
          ],
          "name": "stdout"
        },
        {
          "output_type": "display_data",
          "data": {
            "image/png": "[encoded data removed]",
            "text/plain": [
              "<Figure size 720x504 with 2 Axes>"
            ]
          },
          "metadata": {
            "tags": [],
            "needs_background": "light"
          }
        }
      ]
    },
    {
      "cell_type": "code",
      "metadata": {
        "id": "FOPKzmD-5uk6",
        "colab_type": "code",
        "colab": {}
      },
      "source": [
        ""
      ],
      "execution_count": null,
      "outputs": []
    }
  ]
}